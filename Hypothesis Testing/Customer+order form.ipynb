{
 "cells": [
  {
   "cell_type": "markdown",
   "metadata": {},
   "source": [
    "# CHI-SQUARE TEST"
   ]
  },
  {
   "cell_type": "code",
   "execution_count": 1,
   "metadata": {},
   "outputs": [
    {
     "name": "stdout",
     "output_type": "stream",
     "text": [
      " Volume in drive C is Windows-SSD\n",
      " Volume Serial Number is 6E82-34BE\n",
      "\n",
      " Directory of C:\\Users\\KUMAR SANU\\Assignment\\Hypothesis Testing\n",
      "\n",
      "21-03-2021  10:43    <DIR>          .\n",
      "21-03-2021  10:43    <DIR>          ..\n",
      "11-03-2021  17:54    <DIR>          .ipynb_checkpoints\n",
      "10-03-2021  11:07            20,409 Buyer ratio.ipynb\n",
      "09-03-2021  09:31                87 BuyerRatio.csv\n",
      "09-03-2021  09:31            13,423 Costomer+OrderForm.csv\n",
      "21-03-2021  10:43            27,105 Customer+order form.ipynb\n",
      "09-03-2021  10:48               523 Cutlets.csv\n",
      "09-03-2021  12:52            30,939 Cutlets.mtw.ipynb\n",
      "21-03-2021  10:34            12,705 LAB.ipynb\n",
      "09-03-2021  12:56             3,483 LabTAT.csv\n",
      "               8 File(s)        108,674 bytes\n",
      "               3 Dir(s)  182,177,349,632 bytes free\n"
     ]
    }
   ],
   "source": [
    "ls"
   ]
  },
  {
   "cell_type": "code",
   "execution_count": 54,
   "metadata": {},
   "outputs": [],
   "source": [
    "import pandas as pd\n",
    "import numpy as np\n",
    "import scipy.stats as stats\n",
    "import seaborn as sns"
   ]
  },
  {
   "cell_type": "code",
   "execution_count": 3,
   "metadata": {},
   "outputs": [],
   "source": [
    "form=pd.read_csv('Costomer+OrderForm.csv')"
   ]
  },
  {
   "cell_type": "code",
   "execution_count": 31,
   "metadata": {},
   "outputs": [
    {
     "data": {
      "text/html": [
       "<div>\n",
       "<style scoped>\n",
       "    .dataframe tbody tr th:only-of-type {\n",
       "        vertical-align: middle;\n",
       "    }\n",
       "\n",
       "    .dataframe tbody tr th {\n",
       "        vertical-align: top;\n",
       "    }\n",
       "\n",
       "    .dataframe thead th {\n",
       "        text-align: right;\n",
       "    }\n",
       "</style>\n",
       "<table border=\"1\" class=\"dataframe\">\n",
       "  <thead>\n",
       "    <tr style=\"text-align: right;\">\n",
       "      <th></th>\n",
       "      <th>Phillippines</th>\n",
       "      <th>Indonesia</th>\n",
       "      <th>Malta</th>\n",
       "      <th>India</th>\n",
       "    </tr>\n",
       "  </thead>\n",
       "  <tbody>\n",
       "    <tr>\n",
       "      <th>0</th>\n",
       "      <td>Error Free</td>\n",
       "      <td>Error Free</td>\n",
       "      <td>Defective</td>\n",
       "      <td>Error Free</td>\n",
       "    </tr>\n",
       "    <tr>\n",
       "      <th>1</th>\n",
       "      <td>Error Free</td>\n",
       "      <td>Error Free</td>\n",
       "      <td>Error Free</td>\n",
       "      <td>Defective</td>\n",
       "    </tr>\n",
       "    <tr>\n",
       "      <th>2</th>\n",
       "      <td>Error Free</td>\n",
       "      <td>Defective</td>\n",
       "      <td>Defective</td>\n",
       "      <td>Error Free</td>\n",
       "    </tr>\n",
       "    <tr>\n",
       "      <th>3</th>\n",
       "      <td>Error Free</td>\n",
       "      <td>Error Free</td>\n",
       "      <td>Error Free</td>\n",
       "      <td>Error Free</td>\n",
       "    </tr>\n",
       "    <tr>\n",
       "      <th>4</th>\n",
       "      <td>Error Free</td>\n",
       "      <td>Error Free</td>\n",
       "      <td>Defective</td>\n",
       "      <td>Error Free</td>\n",
       "    </tr>\n",
       "  </tbody>\n",
       "</table>\n",
       "</div>"
      ],
      "text/plain": [
       "  Phillippines   Indonesia       Malta       India\n",
       "0   Error Free  Error Free   Defective  Error Free\n",
       "1   Error Free  Error Free  Error Free   Defective\n",
       "2   Error Free   Defective   Defective  Error Free\n",
       "3   Error Free  Error Free  Error Free  Error Free\n",
       "4   Error Free  Error Free   Defective  Error Free"
      ]
     },
     "execution_count": 31,
     "metadata": {},
     "output_type": "execute_result"
    }
   ],
   "source": [
    "form.head(5)"
   ]
  },
  {
   "cell_type": "code",
   "execution_count": 38,
   "metadata": {},
   "outputs": [
    {
     "name": "stdout",
     "output_type": "stream",
     "text": [
      "Indonesia     Defective  Error Free\n",
      "Phillippines                       \n",
      "Defective             2          27\n",
      "Error Free           31         240\n"
     ]
    }
   ],
   "source": [
    "x=pd.crosstab(form['Phillippines'],form['Indonesia']) \n",
    "print(x)"
   ]
  },
  {
   "cell_type": "code",
   "execution_count": 6,
   "metadata": {},
   "outputs": [
    {
     "data": {
      "text/html": [
       "<div>\n",
       "<style scoped>\n",
       "    .dataframe tbody tr th:only-of-type {\n",
       "        vertical-align: middle;\n",
       "    }\n",
       "\n",
       "    .dataframe tbody tr th {\n",
       "        vertical-align: top;\n",
       "    }\n",
       "\n",
       "    .dataframe thead th {\n",
       "        text-align: right;\n",
       "    }\n",
       "</style>\n",
       "<table border=\"1\" class=\"dataframe\">\n",
       "  <thead>\n",
       "    <tr style=\"text-align: right;\">\n",
       "      <th>India</th>\n",
       "      <th>Defective</th>\n",
       "      <th>Error Free</th>\n",
       "    </tr>\n",
       "    <tr>\n",
       "      <th>Malta</th>\n",
       "      <th></th>\n",
       "      <th></th>\n",
       "    </tr>\n",
       "  </thead>\n",
       "  <tbody>\n",
       "    <tr>\n",
       "      <th>Defective</th>\n",
       "      <td>0</td>\n",
       "      <td>31</td>\n",
       "    </tr>\n",
       "    <tr>\n",
       "      <th>Error Free</th>\n",
       "      <td>20</td>\n",
       "      <td>249</td>\n",
       "    </tr>\n",
       "  </tbody>\n",
       "</table>\n",
       "</div>"
      ],
      "text/plain": [
       "India       Defective  Error Free\n",
       "Malta                            \n",
       "Defective           0          31\n",
       "Error Free         20         249"
      ]
     },
     "execution_count": 6,
     "metadata": {},
     "output_type": "execute_result"
    }
   ],
   "source": [
    "y=pd.crosstab(form['Malta'],form['India']) \n",
    "y"
   ]
  },
  {
   "cell_type": "code",
   "execution_count": 45,
   "metadata": {},
   "outputs": [],
   "source": [
    "cust_dummy = pd.get_dummies(form['Phillippines'])\n",
    "cust_dummy.columns ='Def_Phil','Err_Phil'\n",
    "cust_ordform = pd.concat([form,cust_dummy],axis=1)\n",
    "cust_ordform = cust_ordform.drop(['Phillippines','Def_Phil'],axis=1)"
   ]
  },
  {
   "cell_type": "code",
   "execution_count": 46,
   "metadata": {},
   "outputs": [],
   "source": [
    "cust_dummy = pd.get_dummies(cust_ordform['Indonesia'])\n",
    "cust_dummy.columns ='Def_Indo','Err_Indo'\n",
    "cust_ordform = pd.concat((cust_ordform,cust_dummy),axis=1)\n",
    "cust_ordform = cust_ordform.drop(['Indonesia','Def_Indo'],axis=1)"
   ]
  },
  {
   "cell_type": "code",
   "execution_count": 47,
   "metadata": {},
   "outputs": [],
   "source": [
    "cust_dummy = pd.get_dummies(cust_ordform['Malta'])\n",
    "cust_dummy.columns ='Def_Malta','Err_Malta'\n",
    "cust_ordform = pd.concat((cust_ordform,cust_dummy),axis=1)\n",
    "cust_ordform = cust_ordform.drop(['Malta','Def_Malta'],axis=1)"
   ]
  },
  {
   "cell_type": "code",
   "execution_count": 49,
   "metadata": {},
   "outputs": [],
   "source": [
    "cust_dummy = pd.get_dummies(cust_ordform['India'])\n",
    "cust_dummy.columns ='Def_Ind','Err_Ind'\n",
    "cust_ordform = pd.concat((cust_ordform,cust_dummy),axis=1)\n",
    "cust_ordform = cust_ordform.drop(['India','Def_Ind'],axis=1)"
   ]
  },
  {
   "cell_type": "code",
   "execution_count": 50,
   "metadata": {},
   "outputs": [],
   "source": [
    "cust_ordform.columns = 'Phillippines','Indonesia','Malta','India'"
   ]
  },
  {
   "cell_type": "code",
   "execution_count": 52,
   "metadata": {},
   "outputs": [],
   "source": [
    "count1=form[\"Phillippines\"].value_counts()     #counting the value of Discrete Categorical Data(no error and defective)\n",
    "count2=form[\"Indonesia\"].value_counts()        #counting the value of Discrete Categorical Data(no error and defective)\n",
    "count3=form[\"Malta\"].value_counts()\n",
    "count4=form[\"India\"].value_counts()\n",
    "count={\"Phillipines\":count1, \"Indonesia\":count2, \"Malta\":count3, \"India\":count4} #making dictionary of all counts\n",
    "count_new=pd.DataFrame(count)"
   ]
  },
  {
   "cell_type": "markdown",
   "metadata": {},
   "source": [
    "Applying chi-square test"
   ]
  },
  {
   "cell_type": "code",
   "execution_count": 56,
   "metadata": {},
   "outputs": [
    {
     "data": {
      "text/plain": [
       "(3.858960685820355,\n",
       " 0.2771020991233135,\n",
       " 3,\n",
       " array([[271.75, 271.75, 271.75, 271.75],\n",
       "        [ 28.25,  28.25,  28.25,  28.25]]))"
      ]
     },
     "execution_count": 56,
     "metadata": {},
     "output_type": "execute_result"
    }
   ],
   "source": [
    "Chisquares_results=stats.chi2_contingency(count_new)\n",
    "Chisquares_results"
   ]
  },
  {
   "cell_type": "code",
   "execution_count": 58,
   "metadata": {},
   "outputs": [
    {
     "data": {
      "text/plain": [
       "['sample', 3.858960685820355, 0.2771020991233135]"
      ]
     },
     "execution_count": 58,
     "metadata": {},
     "output_type": "execute_result"
    }
   ],
   "source": [
    "Chisquare=[['', 'Test statistics', 'p value'], ['sample', Chisquares_results[0], Chisquares_results[1]]]  \n",
    "u = Chisquare[1]\n",
    "u"
   ]
  },
  {
   "cell_type": "code",
   "execution_count": 59,
   "metadata": {},
   "outputs": [
    {
     "name": "stdout",
     "output_type": "stream",
     "text": [
      "As P Value for comparing Phillipines, Indonesia, Malta, India is :0.2771020991233135, which is greater than 0.05.\n",
      "Hence we conclude Ho fails to accept.\n"
     ]
    }
   ],
   "source": [
    "print(f'As P Value for comparing Phillipines, Indonesia, Malta, India is :{u[2]}, which is greater than 0.05.\\nHence we conclude Ho fails to accept.')"
   ]
  }
 ],
 "metadata": {
  "kernelspec": {
   "display_name": "Python 3",
   "language": "python",
   "name": "python3"
  },
  "language_info": {
   "codemirror_mode": {
    "name": "ipython",
    "version": 3
   },
   "file_extension": ".py",
   "mimetype": "text/x-python",
   "name": "python",
   "nbconvert_exporter": "python",
   "pygments_lexer": "ipython3",
   "version": "3.7.6"
  }
 },
 "nbformat": 4,
 "nbformat_minor": 4
}
